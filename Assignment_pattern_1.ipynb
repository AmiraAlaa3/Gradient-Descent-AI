{
  "nbformat": 4,
  "nbformat_minor": 0,
  "metadata": {
    "colab": {
      "provenance": []
    },
    "kernelspec": {
      "name": "python3",
      "display_name": "Python 3"
    },
    "language_info": {
      "name": "python"
    }
  },
  "cells": [
    {
      "cell_type": "code",
      "execution_count": null,
      "metadata": {
        "id": "g9JW_ZGMib3u"
      },
      "outputs": [],
      "source": [
        "import pandas as pd\n",
        "import numpy as np\n",
        "import matplotlib.pyplot as plt\n",
        "from sklearn.linear_model import LinearRegression\n",
        "from sklearn.preprocessing import LabelEncoder, StandardScaler\n",
        "from sklearn import preprocessing\n",
        "from sklearn.metrics import mean_squared_error,r2_score"
      ]
    },
    {
      "cell_type": "code",
      "source": [
        "def Gradient_Descent(s_X_train,Y):\n",
        "    theta=np.zeros([7,1])\n",
        "    tolerance = 0.000001\n",
        "    current_cost = 10000\n",
        "    iterations=10\n",
        "    M=len(s_X_train)\n",
        "    learinig_rate=0.3\n",
        "    cost_histore=[]\n",
        "    for i in range(iterations):\n",
        "       if current_cost < tolerance:\n",
        "         break\n",
        "       else:\n",
        "          Y_pred= np.dot(s_X_train,theta)\n",
        "          error=Y_pred-Y\n",
        "          gradient= np.dot(s_X_train.transpose(),error)/M\n",
        "          theta = theta - (learinig_rate* gradient)\n",
        "          current_cost= np.sum(np.square(Y_pred -Y))/(2*M)\n",
        "          cost_histore.append(current_cost)\n",
        "\n",
        "    return cost_histore\n",
        "    \n"
      ],
      "metadata": {
        "id": "L1uxlOuT_2rj"
      },
      "execution_count": null,
      "outputs": []
    },
    {
      "cell_type": "code",
      "source": [
        "# Date Reading\n",
        "data = pd.read_csv('/content/Fish.csv')\n",
        "\n",
        "# Apply LabelEncoder\n",
        "Label_Encoder=LabelEncoder()\n",
        "data['Species']=Label_Encoder.fit_transform(data['Species'])\n",
        "\n",
        "# Get Inputs'Features and True Outputs\n",
        "x = data.drop(['Weight'], axis=1)\n",
        "Y= data['Weight'].values.reshape(-1, 1)\n",
        "\n",
        "#Convert X, to Numpy representation\n",
        "X=x.values\n",
        "\n",
        "#Apply StandardScaler\n",
        "scaler = StandardScaler()\n",
        "s_X_train = scaler.fit_transform(X)\n",
        "\n",
        "new_x = np.c_[np.ones((len(s_X_train),1)),s_X_train]\n",
        "cost=Gradient_Descent(new_x,Y)"
      ],
      "metadata": {
        "id": "clZKlMCH49iR"
      },
      "execution_count": null,
      "outputs": []
    },
    {
      "cell_type": "code",
      "source": [
        "#plot to verify cost function decreases\n",
        "iterations=10\n",
        "plt.plot(range(iterations),cost, marker='o',color='blue',markerfacecolor='red',markersize=10)\n"
      ],
      "metadata": {
        "colab": {
          "base_uri": "https://localhost:8080/",
          "height": 282
        },
        "id": "hspLzoJFNg3Z",
        "outputId": "63738d4a-a64a-4e00-9844-d479b77d2353"
      },
      "execution_count": null,
      "outputs": [
        {
          "output_type": "execute_result",
          "data": {
            "text/plain": [
              "[<matplotlib.lines.Line2D at 0x7f7a4e303950>]"
            ]
          },
          "metadata": {},
          "execution_count": 84
        },
        {
          "output_type": "display_data",
          "data": {
            "text/plain": [
              "<Figure size 432x288 with 1 Axes>"
            ],
            "image/png": "[encoded data removed]"
          },
          "metadata": {
            "needs_background": "light"
          }
        }
      ]
    }
  ]
}